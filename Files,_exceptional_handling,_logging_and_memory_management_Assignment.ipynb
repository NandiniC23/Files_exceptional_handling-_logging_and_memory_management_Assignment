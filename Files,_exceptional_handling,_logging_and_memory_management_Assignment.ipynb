{
  "nbformat": 4,
  "nbformat_minor": 0,
  "metadata": {
    "colab": {
      "provenance": []
    },
    "kernelspec": {
      "name": "python3",
      "display_name": "Python 3"
    },
    "language_info": {
      "name": "python"
    }
  },
  "cells": [
    {
      "cell_type": "markdown",
      "source": [
        "#**Theory Questions**"
      ],
      "metadata": {
        "id": "1VWb6ZSVfdVj"
      }
    },
    {
      "cell_type": "markdown",
      "source": [
        "#**1. What is the difference between interpreted and compiled languages?**\n",
        "-  **Interpreted Language**\n",
        "\n",
        "Definition: The source code is translated line-by-line or instruction-by-instruction at runtime by an interpreter. Examples: Python, JavaScript, Ruby, PHP\n",
        "\n",
        "-  **Compiled Language**\n",
        "\n",
        "Definition: The source code is translated all at once into machine code before execution by a compiler. Examples: C, C++, Rust, Go\n",
        "\n",
        "| Feature          | Compiled Language                 | Interpreted Language   |\n",
        "| ---------------- | --------------------------------- | ---------------------- |\n",
        "| Translation time | Before execution                  | At runtime             |\n",
        "| Output           | Executable file                   | No separate executable |\n",
        "| Speed            | Faster                            | Slower                 |\n",
        "| Debugging        | Harder                            | Easier                 |\n",
        "| Portability      | Less portable (platform-specific) | More portable          |\n",
        "\n",
        "#**2. What is exception handling in Python?**\n",
        "-  Exception handling in Python is a way to manage errors that occur during the execution of a program without crashing it. It lets you catch, handle, and respond to errors gracefully.\n",
        "\n",
        "An exception is an error that occurs at runtime (while the program is running). Examples include:\n",
        "\n",
        "ZeroDivisionError – dividing by zero\n",
        "\n",
        "ValueError – passing wrong data type\n",
        "\n",
        "FileNotFoundError – trying to open a file that doesn’t exist\n",
        "\n",
        "#**3. What is the purpose of the finally block in exception handling?**\n",
        "-  The finally block in exception handling is used to define a section of code that always executes, regardless of whether an exception was raised or not.\n",
        "\n",
        "**Its primary purpose is to ensure that clean-up actions are performed, such as:**\n",
        "\n",
        "Closing files or database connections\n",
        "\n",
        "Releasing resources (like memory or network connections)\n",
        "\n",
        "Resetting application state or user interface elements\n",
        "\n",
        "**Key Points:**\n",
        "\n",
        "It runs after the try and any except blocks, even if an exception is not caught.\n",
        "\n",
        "If there’s a return, break, or continue in the try or except block, the finally block still executes.\n",
        "\n",
        "If the program is interrupted (e.g. os._exit(), or a crash), the finally block may not execute.\n",
        "\n",
        "#**4. What is logging in Python?**\n",
        "-  Logging in Python refers to the process of tracking events that happen when software runs. It is commonly used for debugging, monitoring, and auditing by recording messages to a file or console. Python provides a built-in logging module to help you achieve this.\n",
        "\n",
        "Use of Logging -\n",
        "\n",
        "Granularity: Logging has levels (e.g., DEBUG, INFO, WARNING, ERROR, CRITICAL).\n",
        "\n",
        "Control: We can configure what level of messages to capture.\n",
        "\n",
        "Flexibility: We can log to files, streams, remote servers, etc.\n",
        "\n",
        "Maintainability: Easier to manage and turn off in production.\n",
        "\n",
        "#**5. What is the significance of the __del__ method in Python?**\n",
        "-  The __del__ method in Python is a destructor — a special method that is called when an object is about to be destroyed. Its main purpose is to allow you to define cleanup behavior, such as closing files, releasing network connections, or freeing other external resources that an object may be holding.\n",
        "\n",
        "**Significance:**\n",
        "\n",
        "1. Resource cleanup: The __del__ method is useful for releasing system resources, such as file handles, network connections, or database connections, when an object is no longer needed.\n",
        "2. Memory management: Although Python's garbage collector automatically manages memory, the __del__ method can be used to perform additional cleanup tasks when an object is about to be destroyed.\n",
        "3. Object lifecycle management: The __del__ method provides a way to execute code when an object is about to be destroyed, allowing for custom cleanup or logging.\n",
        "\n",
        "#**6. What is the difference between import and from ... import in Python?**\n",
        "-  In Python, both import and from ... import are used to bring in external modules or specific objects from those modules, but they behave differently in scope, clarity, and performance.\n",
        "\n",
        "Import:\n",
        "\n",
        "The import statement imports an entire module, making all its contents available for use. You can access the module's components using the module name as a prefix.\n",
        "\n",
        "Example:\n",
        "\n",
        "import math\n",
        "print(math.pi)\n",
        "print(math.sqrt(4))\n",
        "\n",
        "From ... Import:\n",
        "\n",
        "The from ... import statement imports specific components from a module, making them available for direct use without the need for the module name prefix.\n",
        "\n",
        "Example:\n",
        "\n",
        "from math import pi, sqrt\n",
        "print(pi)\n",
        "print(sqrt(4))\n",
        "\n",
        "#**7. How can you handle multiple exceptions in Python.**\n",
        "-  In Python, we can handle multiple exceptions in several ways using the try...except block. This is useful when different types of errors might occur and we want to handle them separately or together.\n",
        "\n",
        "| Approach                 | Use When                                        |\n",
        "| ------------------------ | ----------------------------------------------- |\n",
        "| `except (A, B):`         | Same handling logic for multiple exceptions     |\n",
        "| Multiple `except` blocks | Different actions based on exception type       |\n",
        "| `except Exception:`      | Catch-all (use carefully!)                      |\n",
        "| `else:`                  | Code to run only if no exception occurs         |\n",
        "| `finally:`               | Cleanup code that runs regardless of exceptions |\n",
        "\n",
        "#**8. What is the purpose of the with statement when handling files in Python?**\n",
        "-  The with statement in Python is used to manage resources, such as files, connections, or locks, that require setup and teardown actions. When handling files, the with statement provides several benefits:\n",
        "\n",
        "Purpose:\n",
        "\n",
        "1. Automatic file closure: The with statement ensures that the file is properly closed after it is no longer needed, regardless of whether an exception is thrown or not.\n",
        "2. Exception handling: If an exception occurs while working with the file, the with statement will automatically close the file, preventing resource leaks.\n",
        "3. Improved code readability: The with statement makes the code more readable by clearly defining the scope of the file operation.\n",
        "\n",
        "| Advantage                     | Description                                 |\n",
        "| ----------------------------- | ------------------------------------------- |\n",
        "|  Automatic cleanup           | Frees up system resources like file handles |\n",
        "|  Cleaner and more readable   | Less boilerplate code                       |\n",
        "|  Safer in case of exceptions | File is closed even if an error occurs      |\n",
        "\n",
        "#**9. What is the difference between multithreading and multiprocessing?**\n",
        "-  The difference between multithreading and multiprocessing in Python centers around how they achieve concurrency and how they handle system resources like CPU and memory.\n",
        "\n",
        "| Feature          | **Multithreading**            | **Multiprocessing**              |\n",
        "| ---------------- | ----------------------------- | -------------------------------- |\n",
        "| Concurrency Type | Concurrent threads            | Parallel processes               |\n",
        "| Memory Space     | Shared                        | Separate                         |\n",
        "| GIL Bypass       |  No (GIL limits parallelism) |  Yes (true parallelism)         |\n",
        "| Best For         | I/O-bound tasks               | CPU-bound tasks                  |\n",
        "| Communication    | Easier (shared memory)        | Harder (need IPC: queues, pipes) |\n",
        "| Overhead         | Lower                         | Higher                           |\n",
        "\n",
        "#**10. What are the advantages of using logging in a program?**\n",
        "- Using logging in a program provides several advantages:\n",
        "\n",
        "**Advantages:**\n",
        "\n",
        "1. Debugging: Logging helps developers identify and debug issues in their code by providing detailed information about the program's execution.\n",
        "2. Error tracking: Logging allows developers to track errors and exceptions, making it easier to diagnose and fix problems.\n",
        "3. Auditing: Logging provides a record of important events, such as user actions or system changes, which can be useful for auditing and security purposes.\n",
        "4. Performance monitoring: Logging can help developers monitor the performance of their program, identifying bottlenecks and areas for optimization.\n",
        "5. Troubleshooting: Logging provides valuable information for troubleshooting issues, reducing the time and effort required to resolve problems.\n",
        "6. Improved code quality: By incorporating logging into their code, developers can improve the overall quality and reliability of their program.\n",
        "\n",
        "#**11. What is memory management in Python?**\n",
        "-  Memory management in Python refers to the process of managing the memory used by Python programs. Python's memory management is handled by the Python Memory Manager, which is responsible for allocating, deallocating, and managing memory for Python objects.\n",
        "\n",
        "Key components:\n",
        "\n",
        "1. Memory allocation: Python allocates memory for objects when they are created. The Memory Manager uses a combination of strategies, such as arena allocation and caching, to optimize memory allocation.\n",
        "2. Garbage collection: Python's garbage collector is responsible for reclaiming memory occupied by objects that are no longer needed. The garbage collector uses a generational approach, dividing objects into generations based on their lifetime.\n",
        "3. Reference counting: Python uses reference counting to manage object lifetime. When an object's reference count reaches zero, it becomes eligible for garbage collection.\n",
        "\n",
        "#**12. What are the basic steps involved in exception handling in Python?**\n",
        "-  In Python, exception handling is the process of responding to the occurrence of exceptions (errors) during program execution. The basic steps involved in handling exceptions are:\n",
        "\n",
        "Steps:\n",
        "\n",
        "1. Try block: Identify the code that might raise an exception and enclose it in a try block.\n",
        "2. Exception occurrence: If an exception occurs in the try block, Python will stop executing the code in the try block and look for an except block to handle the exception.\n",
        "3. Except block: Use an except block to catch and handle the exception. You can specify the type of exception you want to catch, or use a bare except block to catch all exceptions.\n",
        "4. Handling the exception: In the except block, you can write code to handle the exception, such as logging the error, providing a default value, or retrying the operation.\n",
        "5. Optional else block: You can use an else block to specify code that should be executed if no exception occurs in the try block.\n",
        "6. Optional finally block: You can use a finally block to specify code that should be executed regardless of whether an exception occurs or not.\n",
        "\n",
        "#**13.  Why is memory management important in Python?**\n",
        "-  Memory management is important in Python (and any programming language) because it directly affects your program's performance, efficiency, and stability. Here’s why it matters specifically in Python:\n",
        "\n",
        "Reasons:\n",
        "\n",
        "1. Efficient Use of Resources\n",
        "Python programs may deal with large data structures (like lists, dictionaries, or custom objects).\n",
        "\n",
        "Without good memory management, these structures could consume a lot of RAM, slowing down the system or crashing your program.\n",
        "\n",
        "2. Automatic Garbage Collection\n",
        "Python uses a built-in garbage collector (GC) to automatically free up memory that's no longer used.\n",
        "\n",
        "However, understanding how it works helps prevent memory leaks (when unused memory isn't released).\n",
        "\n",
        "3. Avoiding Memory Leaks\n",
        "Even with automatic garbage collection, poorly written code (e.g., circular references or global object misuse) can still cause memory leaks.\n",
        "\n",
        "Managing references properly and using tools like weakref can help.\n",
        "\n",
        "4. Performance Optimization\n",
        "Reducing memory footprint can improve performance—especially in memory-bound applications like data analysis, machine learning, or web services.\n",
        "\n",
        "Efficient memory use means faster execution and lower resource consumption.\n",
        "\n",
        "5. Scalability\n",
        "If you want your application to scale (handle more data/users), managing memory is essential.\n",
        "\n",
        "Poor memory management might work for small datasets but fail at scale.\n",
        "\n",
        "6. Security\n",
        "Memory mismanagement can lead to security vulnerabilities, such as buffer overflows in other languages. While Python abstracts many of these risks, efficient memory use still helps avoid exposing sensitive data unintentionally.\n",
        "\n",
        "#**14. What is the role of try and except in exception handling?**\n",
        "-  The try and except blocks are core components of exception handling in Python. Their primary role is to catch and handle errors gracefully, so our program can continue running or fail in a controlled way.\n",
        "\n",
        "Try block:\n",
        "\n",
        "1. Code execution: The try block contains the code that might raise an exception.\n",
        "2. Exception detection: If an exception occurs in the try block, Python will stop executing the code in the try block and look for an except block to handle the exception.\n",
        "\n",
        "Except block:\n",
        "\n",
        "1. Exception handling: The except block contains the code that will be executed if an exception occurs in the try block.\n",
        "2. Specific exception handling: You can specify the type of exception you want to catch, allowing you to handle different exceptions in different ways.\n",
        "3. General exception handling: You can use a bare except block to catch all exceptions, providing a general exception handling mechanism.\n",
        "\n",
        "#**15.  How does Python's garbage collection system work?**\n",
        "-  Python’s garbage collection (GC) system automatically manages memory by reclaiming unused or unreachable objects, helping developers avoid memory leaks and manual memory management.\n",
        "\n",
        "**How it works:**\n",
        "\n",
        "1. Object creation: When an object is created, Python allocates memory for it and sets its reference count to 1.\n",
        "2. Reference counting: When an object is referenced (e.g., assigned to a variable or passed as an argument), its reference count is incremented. When an object is no longer referenced, its reference count is decremented.\n",
        "3. Garbage collection: When an object's reference count reaches zero, it becomes eligible for garbage collection. The garbage collector periodically runs to reclaim memory occupied by objects with zero reference counts.\n",
        "4. Generational collection: The garbage collector divides objects into generations based on their lifetime. Younger generations are collected more frequently than older generations.\n",
        "\n",
        "#**16. What is the purpose of the else block in exception handling?**\n",
        "-  The (else) block in Python's exception handling is used to define code that should run only if no exceptions were raised in the (try) block.\n",
        "\n",
        "**Purpose:**\n",
        "\n",
        "1. Code organization: The (else) block helps to organize code by separating the normal execution path from the exception handling path.\n",
        "2. Readability: By using an (else) block, you can make your code more readable by clearly indicating what code should be executed if no exception occurs.\n",
        "3. Reducing nesting: The (else) block can help reduce nesting by allowing you to write code that should be executed if no exception occurs without nesting it inside the (try) block.\n",
        "\n",
        "#**17. What are the common logging levels in Python?**\n",
        "-  Python's logging module provides several common logging levels that can be used to categorize log messages based on their severity or importance.\n",
        "\n",
        "**Logging levels:**\n",
        "\n",
        "1. DEBUG: The DEBUG level is used for detailed, low-level debugging information. It's typically used during development and testing.\n",
        "2. INFO: The INFO level is used for informational messages that provide insight into the application's behavior. It's often used for logging important events or milestones.\n",
        "3. WARNING: The WARNING level is used for potential issues or unexpected events that don't prevent the application from functioning but might indicate a problem.\n",
        "4. ERROR: The ERROR level is used for errors that prevent the application from functioning correctly. It's often used for logging exceptions or critical failures.\n",
        "5. CRITICAL: The CRITICAL level is used for critical errors that require immediate attention. It's often used for logging fatal errors that can cause the application to crash or become unstable.\n",
        "\n",
        "#**18. What is the difference between os.fork() and multiprocessing in Python?**\n",
        "-  os.fork() and multiprocessing are two different ways to achieve concurrency in Python, but they work in distinct ways.\n",
        "\n",
        "os.fork():\n",
        "\n",
        "1. Unix-based: os.fork() is a Unix-based system call that creates a new process by duplicating an existing one.\n",
        "2. Process duplication: When os.fork() is called, it creates a new process that is a copy of the parent process, including its memory space.\n",
        "3. Process ID: The new process has its own process ID (PID) and can run concurrently with the parent process.\n",
        "4. Low-level: os.fork() is a low-level system call that requires manual management of process synchronization and communication.\n",
        "\n",
        "multiprocessing:\n",
        "\n",
        "1. High-level interface: The multiprocessing module provides a high-level interface for creating and managing processes in Python.\n",
        "2. Process creation: multiprocessing creates new processes using the Process class, which can be used to execute functions or methods concurrently.\n",
        "3. Data sharing: multiprocessing provides several ways to share data between processes, including queues, pipes, and shared memory.\n",
        "4. Cross-platform: multiprocessing is a cross-platform module that works on both Unix and Windows systems.\n",
        "\n",
        "#**19. What is the importance of closing a file in Python?**\n",
        "-  Closing a file in Python is critically important for resource management, data integrity, and program stability.\n",
        "\n",
        "Reasons:\n",
        "\n",
        "1. Resource release: Closing a file releases system resources associated with the file, such as file descriptors or handles.\n",
        "2. Data integrity: Closing a file ensures that any buffered data is written to the file, preventing data loss or corruption.\n",
        "3. File access: Closing a file allows other processes to access the file, preventing file locking or access issues.\n",
        "4. Security: Closing a file can help prevent unauthorized access to sensitive data.\n",
        "\n",
        "#**20. What is the difference between file.read() and file.readline() in Python?**\n",
        "-  file.read() and file.readline() are two different methods for reading data from a file in Python.\n",
        "\n",
        "file.read():\n",
        "\n",
        "| Feature      | `file.read()`                   | `file.readline()`               |\n",
        "| ------------ | ------------------------------- | ------------------------------- |\n",
        "| Reads...     | Whole file (or specified bytes) | One line at a time              |\n",
        "| Return type  | String                          | String (including newline `\\n`) |\n",
        "| Memory usage | High (for large files)          | Low                             |\n",
        "| Use case     | Small/complete file reading     | Line-by-line processing         |\n",
        "\n",
        "#**21. What is the logging module in Python used for?**\n",
        "-  The logging module in Python is used to track events that happen while your program runs. It's a built-in module that helps you:\n",
        "\n",
        "1. Debugging: Logging is useful for debugging purposes, as it allows you to track the flow of your program and identify issues.\n",
        "2. Error tracking: Logging can help you track errors and exceptions in your program, making it easier to diagnose and fix issues.\n",
        "3. Auditing: Logging can be used for auditing purposes, such as tracking user activity or changes to data.\n",
        "4. Monitoring: Logging can be used to monitor the performance and behavior of your application, helping you identify areas for improvement.\n",
        "\n",
        "| `print()`                | `logging`                                        |\n",
        "| ------------------------ | ------------------------------------------------ |\n",
        "| Meant for simple output  | Meant for diagnostics and monitoring             |\n",
        "| No severity levels       | Has levels (DEBUG, INFO, etc.)                   |\n",
        "| No built-in file logging | Can log to files, streams, or remote servers     |\n",
        "| Not configurable         | Highly configurable (format, level, destination) |\n",
        "\n",
        "#**22. What is the os module in Python used for in file handling?**\n",
        "-  The os module in Python provides a way to interact with the operating system, and it's especially useful in file handling for tasks that go beyond basic reading and writing.\n",
        "\n",
        "Common os functions for file handling:\n",
        "\n",
        "| Function               | Purpose                                            |\n",
        "| ---------------------- | -------------------------------------------------- |\n",
        "| `os.open()`            | Open a file descriptor (lower-level than `open()`) |\n",
        "| `os.close(fd)`         | Close a file descriptor                            |\n",
        "| `os.remove(path)`      | Delete a file                                      |\n",
        "| `os.rename(src, dst)`  | Rename or move a file                              |\n",
        "| `os.path.exists(path)` | Check if a file or directory exists                |\n",
        "| `os.path.isfile(path)` | Check if path is a file                            |\n",
        "| `os.path.isdir(path)`  | Check if path is a directory                       |\n",
        "| `os.mkdir(path)`       | Create a new directory                             |\n",
        "| `os.rmdir(path)`       | Remove an empty directory                          |\n",
        "| `os.listdir(path)`     | List files and directories in a directory          |\n",
        "| `os.stat(path)`        | Get file metadata (size, modification time, etc.)  |\n",
        "\n",
        "#**23. What are the challenges associated with memory management in Python?**\n",
        "-  Despite Python’s automated memory management, there are still several challenges developers face when dealing with memory in Python.\n",
        "\n",
        "Challenges:\n",
        "\n",
        "1. Dynamic typing: Python's dynamic typing system makes it difficult for the interpreter to predict the memory requirements of variables.\n",
        "2. Garbage collection: While Python's garbage collector helps manage memory, it can introduce performance overhead and pauses in the program.\n",
        "3. Reference cycles: Reference cycles can prevent objects from being garbage collected, leading to memory leaks.\n",
        "4. Large data structures: Working with large data structures, such as lists or dictionaries, can consume significant amounts of memory.\n",
        "5. Memory fragmentation: Memory fragmentation can occur when objects are allocated and deallocated in a way that leaves gaps in the memory space.\n",
        ". Memory leaks: Memory leaks can occur when objects are not properly released, causing memory usage to increase over time.\n",
        "7. Performance issues: Poor memory management can lead to performance issues, such as slow execution or crashes.\n",
        "8. Resource exhaustion: Memory exhaustion can occur when the system runs out of memory, causing the program to crash or become unresponsive.\n",
        "\n",
        "#**24. How do you raise an exception manually in Python?**\n",
        "-  We can raise an exception manually in Python using the raise statement. This lets you trigger an error intentionally, which is useful for enforcing conditions or signaling problems in your code.\n",
        "\n",
        "Syntax:\n",
        "\n",
        "raise Exception(\"Error message\")\n",
        "\n",
        "Example:\n",
        "\n",
        "def divide(a, b):\n",
        "    if b == 0:\n",
        "        raise ZeroDivisionError(\"Cannot divide by zero!\")\n",
        "    return a / b\n",
        "\n",
        "try:\n",
        "    result = divide(10, 0)\n",
        "except ZeroDivisionError as e:\n",
        "    print(e)\n",
        "\n",
        "In this example, we define a function divide that raises a ZeroDivisionError if the divisor is zero. We then catch this exception in the try-except block and print the error message.\n",
        "\n",
        "Best practices:\n",
        "\n",
        "1. Use specific exception types: Use specific exception types, such as ValueError or TypeError, to indicate the type of error that occurred.\n",
        "2. Provide informative error messages: Provide informative error messages that help the user understand what went wrong and how to fix it.\n",
        "3. Use exceptions for exceptional cases: Use exceptions for exceptional cases, such as errors or unexpected conditions, rather than for normal control flow.\n",
        "\n",
        "#**25. Why is it important to use multithreading in certain applications?**\n",
        "-  Multithreading is important in certain applications because it allows multiple threads to execute concurrently, improving the overall performance and responsiveness of the program.\n",
        "\n",
        "Benefits:\n",
        "\n",
        "1. Improved responsiveness: Multithreading can improve the responsiveness of a program by allowing it to perform multiple tasks concurrently, reducing the time it takes to respond to user input.\n",
        "2. Increased throughput: Multithreading can increase the throughput of a program by allowing it to perform multiple tasks in parallel, reducing the overall processing time.\n",
        "3. Efficient resource utilization: Multithreading can improve resource utilization by allowing multiple threads to share the same resources, such as memory and I/O devices.\n",
        "4. Simplified programming: Multithreading can simplify programming by allowing developers to write concurrent code that is easier to understand and maintain.\n",
        "\n",
        "| Scenario                        | Why Multithreading Helps                      |\n",
        "| ------------------------------- | --------------------------------------------- |\n",
        "| GUI applications                | Keeps UI responsive while doing work          |\n",
        "| Web servers / network apps      | Handle many connections concurrently          |\n",
        "| File or database I/O bound apps | Overlap slow I/O waits for better performance |\n",
        "| Background tasks                | Run tasks without blocking main thread        |\n"
      ],
      "metadata": {
        "id": "HVIy74fffoB4"
      }
    },
    {
      "cell_type": "markdown",
      "source": [
        "#**Practical Questions**"
      ],
      "metadata": {
        "id": "pHBtmXRyqZow"
      }
    },
    {
      "cell_type": "markdown",
      "source": [
        "1. How can you open a file for writing in Python and write a string to it?\n"
      ],
      "metadata": {
        "id": "jv1C497AqROv"
      }
    },
    {
      "cell_type": "code",
      "source": [
        "# Open the file in write mode\n",
        "with open('example.txt', 'w') as file:\n",
        "    # Write a string to the file\n",
        "    file.write(\"Hello World!\")\n",
        "    file.write(\"Welcome to India\\n\")"
      ],
      "metadata": {
        "id": "gVfG5VbzgemP"
      },
      "execution_count": null,
      "outputs": []
    },
    {
      "cell_type": "markdown",
      "source": [
        "2. Write a Python program to read the contents of a file and print each line."
      ],
      "metadata": {
        "id": "pZSacpTLqjmA"
      }
    },
    {
      "cell_type": "code",
      "source": [
        "# Open the file in read mode\n",
        "with open(\"example.txt\", \"r\") as file:\n",
        "    # Loop through each line in the file\n",
        "    for line in file:\n",
        "        print(line, end='')  # end='' avoids adding extra newlines"
      ],
      "metadata": {
        "colab": {
          "base_uri": "https://localhost:8080/"
        },
        "id": "dM0SxDKogfmj",
        "outputId": "d06613ba-4ec0-4c0d-c1ff-3a3c17492cea"
      },
      "execution_count": null,
      "outputs": [
        {
          "output_type": "stream",
          "name": "stdout",
          "text": [
            "Hello World!Welcome to India\n"
          ]
        }
      ]
    },
    {
      "cell_type": "markdown",
      "source": [
        "3. How would you handle a case where the file doesn't exist while trying to open it for reading?"
      ],
      "metadata": {
        "id": "gWUlaCIDqnwE"
      }
    },
    {
      "cell_type": "code",
      "source": [
        "try:\n",
        "    with open(\"filename.txt\", \"r\") as file:\n",
        "        content = file.read()\n",
        "        print(content)\n",
        "except FileNotFoundError:\n",
        "    print(\"The file does not exist.\")\n",
        "# We can handle this gracefully, like creating the file, asking for a different filename, or exiting"
      ],
      "metadata": {
        "colab": {
          "base_uri": "https://localhost:8080/"
        },
        "id": "dgQ1xUgTghq5",
        "outputId": "2c58811c-f3b0-4ed0-93d0-5a309ba0d0b0"
      },
      "execution_count": null,
      "outputs": [
        {
          "output_type": "stream",
          "name": "stdout",
          "text": [
            "The file does not exist.\n"
          ]
        }
      ]
    },
    {
      "cell_type": "markdown",
      "source": [
        "4. Write a Python script that reads from one file and writes its content to another file."
      ],
      "metadata": {
        "id": "g2hqiALrqqg1"
      }
    },
    {
      "cell_type": "code",
      "source": [
        "def copy_file(source_path, destination_path):\n",
        "    try:\n",
        "        with open(source_path, 'r') as src_file:\n",
        "            content = src_file.read()\n",
        "\n",
        "        with open(destination_path, 'w') as dest_file:\n",
        "            dest_file.write(content)\n",
        "\n",
        "        print(f\"Content copied from '{source_path}' to '{destination_path}' successfully.\")\n",
        "\n",
        "    except FileNotFoundError:\n",
        "        print(f\"Error: The source file '{source_path}' does not exist.\")\n",
        "    except Exception as e:\n",
        "        print(f\"An error occurred: {e}\")\n",
        "\n",
        "# Example usage\n",
        "copy_file('input.txt', 'output.txt')\n"
      ],
      "metadata": {
        "colab": {
          "base_uri": "https://localhost:8080/"
        },
        "id": "mILepe3ugkv4",
        "outputId": "6f23f62f-04d2-4086-f473-f904c8263436"
      },
      "execution_count": null,
      "outputs": [
        {
          "output_type": "stream",
          "name": "stdout",
          "text": [
            "Error: The source file 'input.txt' does not exist.\n"
          ]
        }
      ]
    },
    {
      "cell_type": "markdown",
      "source": [
        "5. How would you catch and handle division by zero error in Python?"
      ],
      "metadata": {
        "id": "ol5Vx6a-qu3r"
      }
    },
    {
      "cell_type": "code",
      "source": [
        "try:\n",
        "    numerator = 10\n",
        "    denominator = 0\n",
        "    result = numerator / denominator\n",
        "except ZeroDivisionError:\n",
        "    print(\"Error: Cannot divide by zero!\")\n",
        "else:\n",
        "    print(\"Result:\", result)"
      ],
      "metadata": {
        "colab": {
          "base_uri": "https://localhost:8080/"
        },
        "id": "jVMMrXcrgoX3",
        "outputId": "b2778cbc-1ff8-43a3-ba16-f35989e1c91f"
      },
      "execution_count": null,
      "outputs": [
        {
          "output_type": "stream",
          "name": "stdout",
          "text": [
            "Error: Cannot divide by zero!\n"
          ]
        }
      ]
    },
    {
      "cell_type": "markdown",
      "source": [
        "6. Write a Python program that logs an error message to a log file when a division by zero exception occurs."
      ],
      "metadata": {
        "id": "DyCUEAOIqzuT"
      }
    },
    {
      "cell_type": "code",
      "source": [
        "import logging\n",
        "\n",
        "# Configure logging to write to a file with a specific format\n",
        "logging.basicConfig(\n",
        "    filename='error.log',\n",
        "    level=logging.ERROR,\n",
        "    format='%(asctime)s - %(levelname)s - %(message)s'\n",
        ")\n",
        "\n",
        "def divide_numbers(numerator, denominator):\n",
        "    try:\n",
        "        result = numerator / denominator\n",
        "        print(f\"Result: {result}\")\n",
        "    except ZeroDivisionError as e:\n",
        "        logging.error(\"Division by zero error occurred.\", exc_info=True)\n",
        "        print(\"An error occurred: Division by zero is not allowed. Check error.log for details.\")\n",
        "\n",
        "# Example usage\n",
        "divide_numbers(50, 0)\n"
      ],
      "metadata": {
        "colab": {
          "base_uri": "https://localhost:8080/"
        },
        "id": "jEA7ynlSgq0J",
        "outputId": "b69e67a7-26b9-4b29-f9a0-33c09c075234"
      },
      "execution_count": null,
      "outputs": [
        {
          "output_type": "stream",
          "name": "stderr",
          "text": [
            "ERROR: Division by zero error occurred.\n",
            "Traceback (most recent call last):\n",
            "  File \"/tmp/ipython-input-54-463356621.py\", line 12, in divide_numbers\n",
            "    result = numerator / denominator\n",
            "             ~~~~~~~~~~^~~~~~~~~~~~~\n",
            "ZeroDivisionError: division by zero\n"
          ]
        },
        {
          "output_type": "stream",
          "name": "stdout",
          "text": [
            "An error occurred: Division by zero is not allowed. Check error.log for details.\n"
          ]
        }
      ]
    },
    {
      "cell_type": "markdown",
      "source": [
        "7. How do you log information at different levels (INFO, ERROR, WARNING) in Python using the logging module?"
      ],
      "metadata": {
        "id": "vgZbonNyq6Dk"
      }
    },
    {
      "cell_type": "code",
      "source": [
        "import logging\n",
        "\n",
        "for handler in logging.root.handlers[:]:\n",
        "    logging.root.removeHandler(handler)\n",
        "\n",
        "# Now configure logging\n",
        "logging.basicConfig(level=logging.INFO, format='%(levelname)s: %(message)s')\n",
        "\n",
        "# Log messages\n",
        "logging.info(\"This is an INFO message\")\n",
        "logging.warning(\"This is a WARNING message\")\n",
        "logging.error(\"This is an ERROR message\")"
      ],
      "metadata": {
        "colab": {
          "base_uri": "https://localhost:8080/"
        },
        "id": "McPzjd1ygsim",
        "outputId": "06b18685-598d-4f79-f6d4-90da45ed333e"
      },
      "execution_count": null,
      "outputs": [
        {
          "output_type": "stream",
          "name": "stderr",
          "text": [
            "INFO: This is an INFO message\n",
            "WARNING: This is a WARNING message\n",
            "ERROR: This is an ERROR message\n"
          ]
        }
      ]
    },
    {
      "cell_type": "markdown",
      "source": [
        "8.  Write a program to handle a file opening error using exception handling.\n"
      ],
      "metadata": {
        "id": "F9rJMHX0q9XJ"
      }
    },
    {
      "cell_type": "code",
      "source": [
        "filename = \"example.txt\"  # You can change this to a non-existent file to test\n",
        "\n",
        "try:\n",
        "    with open(filename, 'r') as file:\n",
        "        content = file.read()\n",
        "        print(\"File content:\")\n",
        "        print(content)\n",
        "\n",
        "except FileNotFoundError:\n",
        "    print(f\"Error: The file '{filename}' was not found.\")\n",
        "\n",
        "except IOError:\n",
        "    print(f\"Error: An I/O error occurred while trying to read '{filename}'.\")\n"
      ],
      "metadata": {
        "colab": {
          "base_uri": "https://localhost:8080/"
        },
        "id": "R06EZvnLgwCM",
        "outputId": "07443468-41a2-4667-9dbe-644e06d3e56e"
      },
      "execution_count": null,
      "outputs": [
        {
          "output_type": "stream",
          "name": "stdout",
          "text": [
            "File content:\n",
            "Hello World!Welcome to India\n",
            "\n"
          ]
        }
      ]
    },
    {
      "cell_type": "markdown",
      "source": [
        "9. How can you read a file line by line and store its content in a list in Python?"
      ],
      "metadata": {
        "id": "_JOLt9LerCNo"
      }
    },
    {
      "cell_type": "code",
      "source": [
        "filename = \"example.txt\"  # Replace with your file name\n",
        "\n",
        "try:\n",
        "    with open(filename, 'r') as file:\n",
        "        lines = [line.rstrip('\\n') for line in file]  # Reads each line and removes trailing newline\n",
        "\n",
        "    print(lines)\n",
        "\n",
        "except FileNotFoundError:\n",
        "    print(f\"Error: The file '{filename}' was not found.\")\n"
      ],
      "metadata": {
        "colab": {
          "base_uri": "https://localhost:8080/"
        },
        "id": "vFrKPBrcg4k9",
        "outputId": "c2cdcc4f-2929-423c-9035-d96e2e47bbac"
      },
      "execution_count": null,
      "outputs": [
        {
          "output_type": "stream",
          "name": "stdout",
          "text": [
            "['Hello World!Welcome to India']\n"
          ]
        }
      ]
    },
    {
      "cell_type": "markdown",
      "source": [
        "10. How can you append data to an existing file in Python?"
      ],
      "metadata": {
        "id": "ugS7uy6irGwL"
      }
    },
    {
      "cell_type": "code",
      "source": [
        "filename = \"example.txt\"\n",
        "\n",
        "with open(filename, 'a') as file:  # 'a' mode opens the file for appending\n",
        "    file.write(\"This line will be added at the end of the file.\\n\")\n"
      ],
      "metadata": {
        "id": "YLOxCM9dg6Zo"
      },
      "execution_count": null,
      "outputs": []
    },
    {
      "cell_type": "markdown",
      "source": [
        "11. Write a Python program that uses a try-except block to handle an error when attempting to access a dictionary key that doesn't exist?"
      ],
      "metadata": {
        "id": "NhMaprksrNHY"
      }
    },
    {
      "cell_type": "code",
      "source": [
        "my_dict = {'name': 'Nandini', 'age': 32}\n",
        "\n",
        "try:\n",
        "    # Attempt to access a key that may not exist\n",
        "    print(\"Occupation:\", my_dict['occupation'])\n",
        "except KeyError:\n",
        "    print(\"Error: The key 'occupation' does not exist in the dictionary.\")\n"
      ],
      "metadata": {
        "colab": {
          "base_uri": "https://localhost:8080/"
        },
        "id": "_K7T4SBGg8Ls",
        "outputId": "6482f408-1601-4bd1-e812-a65caa7b00e3"
      },
      "execution_count": null,
      "outputs": [
        {
          "output_type": "stream",
          "name": "stdout",
          "text": [
            "Error: The key 'occupation' does not exist in the dictionary.\n"
          ]
        }
      ]
    },
    {
      "cell_type": "markdown",
      "source": [
        "12. Write a program that demonstrates using multiple except blocks to handle different types of exceptions."
      ],
      "metadata": {
        "id": "rWXMNEM-rRkj"
      }
    },
    {
      "cell_type": "code",
      "source": [
        "def divide_numbers(a, b):\n",
        "    try:\n",
        "        result = a / b\n",
        "        print(f\"Result: {result}\")\n",
        "    except ZeroDivisionError:\n",
        "        print(\"Error: Cannot divide by zero.\")\n",
        "    except TypeError:\n",
        "        print(\"Error: Please provide numbers for division.\")\n",
        "\n",
        "# Test cases\n",
        "divide_numbers(50, 2)      # Valid division\n",
        "divide_numbers(50, 0)      # Division by zero\n",
        "divide_numbers(50, 'a')    # Invalid type\n"
      ],
      "metadata": {
        "colab": {
          "base_uri": "https://localhost:8080/"
        },
        "id": "zGCKGZPEhzoh",
        "outputId": "8b9e6596-39d1-454c-a959-15fdf334af3d"
      },
      "execution_count": null,
      "outputs": [
        {
          "output_type": "stream",
          "name": "stdout",
          "text": [
            "Result: 25.0\n",
            "Error: Cannot divide by zero.\n",
            "Error: Please provide numbers for division.\n"
          ]
        }
      ]
    },
    {
      "cell_type": "markdown",
      "source": [
        "13. How would you check if a file exists before attempting to read it in Python?"
      ],
      "metadata": {
        "id": "H-9RE0UIrVz9"
      }
    },
    {
      "cell_type": "code",
      "source": [
        "import os\n",
        "\n",
        "filename = 'example.txt'\n",
        "\n",
        "if os.path.exists(filename):\n",
        "    with open(filename, 'r') as file:\n",
        "        content = file.read()\n",
        "        print(content)\n",
        "else:\n",
        "    print(f\"The file '{filename}' does not exist.\")\n"
      ],
      "metadata": {
        "colab": {
          "base_uri": "https://localhost:8080/"
        },
        "id": "FXpo7PyqiGle",
        "outputId": "fdc2bbf5-527f-4277-ca3b-58010f9babe0"
      },
      "execution_count": null,
      "outputs": [
        {
          "output_type": "stream",
          "name": "stdout",
          "text": [
            "Hello World!Welcome to India\n",
            "This line will be added at the end of the file.\n",
            "\n"
          ]
        }
      ]
    },
    {
      "cell_type": "markdown",
      "source": [
        "14. Write a program that uses the logging module to log both informational and error messages."
      ],
      "metadata": {
        "id": "EeLsB7FSk38j"
      }
    },
    {
      "cell_type": "code",
      "source": [
        "import logging\n",
        "\n",
        "# Configure logging: log messages will be shown on the console\n",
        "logging.basicConfig(\n",
        "    level=logging.DEBUG,  # Set minimum level to DEBUG to capture all messages\n",
        "    format='%(asctime)s - %(levelname)s - %(message)s'\n",
        ")\n",
        "\n",
        "def divide(a, b):\n",
        "    logging.info(f\"Attempting to divide {a} by {b}\")\n",
        "    try:\n",
        "        result = a / b\n",
        "        logging.info(f\"Division successful: {result}\")\n",
        "        return result\n",
        "    except ZeroDivisionError:\n",
        "        logging.error(\"Error: Division by zero attempted!\")\n",
        "\n",
        "# Example usage\n",
        "divide(20, 2)\n",
        "divide(20, 0)\n"
      ],
      "metadata": {
        "colab": {
          "base_uri": "https://localhost:8080/"
        },
        "id": "T5nbYAuziIpn",
        "outputId": "c4399f4d-3190-4ad5-da28-54317ea6f9c3"
      },
      "execution_count": null,
      "outputs": [
        {
          "output_type": "stream",
          "name": "stderr",
          "text": [
            "INFO: Attempting to divide 20 by 2\n",
            "INFO: Division successful: 10.0\n",
            "INFO: Attempting to divide 20 by 0\n",
            "ERROR: Error: Division by zero attempted!\n"
          ]
        }
      ]
    },
    {
      "cell_type": "markdown",
      "source": [
        "15.  Write a Python program that prints the content of a file and handles the case when the file is empty."
      ],
      "metadata": {
        "id": "eRoIw00Ukkpg"
      }
    },
    {
      "cell_type": "code",
      "source": [
        "filename = 'example.txt'\n",
        "\n",
        "try:\n",
        "    with open(filename, 'r') as file:\n",
        "        content = file.read()\n",
        "        if content:\n",
        "            print(\"File content:\")\n",
        "            print(content)\n",
        "        else:\n",
        "            print(\"The file is empty.\")\n",
        "except FileNotFoundError:\n",
        "    print(f\"The file '{filename}' does not exist.\")\n",
        "except Exception as e:\n",
        "    print(f\"An error occurred: {e}\")\n"
      ],
      "metadata": {
        "colab": {
          "base_uri": "https://localhost:8080/"
        },
        "id": "AQ4uTGlZiNGl",
        "outputId": "5f032352-5070-437a-afe6-55eb45ee026e"
      },
      "execution_count": null,
      "outputs": [
        {
          "output_type": "stream",
          "name": "stdout",
          "text": [
            "File content:\n",
            "Hello World!Welcome to India\n",
            "This line will be added at the end of the file.\n",
            "\n"
          ]
        }
      ]
    },
    {
      "cell_type": "markdown",
      "source": [
        "16. Demonstrate how to use memory profiling to check the memory usage of a small program.\n"
      ],
      "metadata": {
        "id": "1dF48q4-jP4E"
      }
    },
    {
      "cell_type": "code",
      "metadata": {
        "colab": {
          "base_uri": "https://localhost:8080/"
        },
        "id": "67ad247f",
        "outputId": "549a3781-5e48-41e7-ddbd-49c6f5250d80"
      },
      "source": [
        "!pip install memory-profiler"
      ],
      "execution_count": null,
      "outputs": [
        {
          "output_type": "stream",
          "name": "stdout",
          "text": [
            "Requirement already satisfied: memory-profiler in /usr/local/lib/python3.11/dist-packages (0.61.0)\n",
            "Requirement already satisfied: psutil in /usr/local/lib/python3.11/dist-packages (from memory-profiler) (5.9.5)\n"
          ]
        }
      ]
    },
    {
      "cell_type": "code",
      "source": [
        "def create_large_list():\n",
        "    large_list = [i for i in range(10**6)]  # A list with 1 million elements\n",
        "    return large_list\n",
        "\n",
        "def main():\n",
        "    large_list = create_large_list()\n",
        "    print(f\"Created a list with {len(large_list)} elements.\")\n",
        "\n",
        "if __name__ == \"__main__\":\n",
        "    main()\n",
        "\n",
        "from memory_profiler import profile\n",
        "\n",
        "@profile\n",
        "def create_large_list():\n",
        "    large_list = [i for i in range(10**6)]  # A list with 1 million elements\n",
        "    return large_list\n",
        "\n",
        "@profile\n",
        "def main():\n",
        "    large_list = create_large_list()\n",
        "    print(f\"Created a list with {len(large_list)} elements.\")\n",
        "\n",
        "if __name__ == \"__main__\":\n",
        "    main()\n",
        "\n",
        "def create_large_list():\n",
        "    large_list = [i for i in range(10**6)]  # A list with 1 million elements\n",
        "    return large_list\n",
        "\n",
        "def main():\n",
        "    large_list = create_large_list()\n",
        "    print(f\"Created a list with {len(large_list)} elements.\")\n",
        "\n",
        "if __name__ == \"__main__\":\n",
        "    main()\n",
        "\n",
        "from memory_profiler import profile\n",
        "\n",
        "@profile\n",
        "def create_large_list():\n",
        "    large_list = [i for i in range(10**6)]  # A list with 1 million elements\n",
        "    return large_list\n",
        "\n",
        "@profile\n",
        "def main():\n",
        "    large_list = create_large_list()\n",
        "    print(f\"Created a list with {len(large_list)} elements.\")\n",
        "\n",
        "if __name__ == \"__main__\":\n",
        "    main()\n"
      ],
      "metadata": {
        "colab": {
          "base_uri": "https://localhost:8080/"
        },
        "id": "L_ZsTYZNjXpB",
        "outputId": "8b309670-b709-48b1-f994-b9e29f854e68"
      },
      "execution_count": null,
      "outputs": [
        {
          "output_type": "stream",
          "name": "stdout",
          "text": [
            "Created a list with 1000000 elements.\n",
            "ERROR: Could not find file /tmp/ipython-input-65-1490472520.py\n",
            "ERROR: Could not find file /tmp/ipython-input-65-1490472520.py\n",
            "Created a list with 1000000 elements.\n",
            "Created a list with 1000000 elements.\n",
            "ERROR: Could not find file /tmp/ipython-input-65-1490472520.py\n",
            "ERROR: Could not find file /tmp/ipython-input-65-1490472520.py\n",
            "Created a list with 1000000 elements.\n"
          ]
        }
      ]
    },
    {
      "cell_type": "markdown",
      "source": [
        "17. Write a Python program to create and write a list of numbers to a file, one number per line.\n",
        "\n"
      ],
      "metadata": {
        "id": "tDnXunI9k-2R"
      }
    },
    {
      "cell_type": "code",
      "source": [
        "numbers = [10, 20, 30, 40, 50, 60, 70, 80, 90, 100]\n",
        "output_file = \"number_list.txt\"\n",
        "\n",
        "try:\n",
        "    # Open the file for writing\n",
        "    with open(output_file, \"w\") as file:\n",
        "        for number in numbers:\n",
        "            file.write(str(number) + \"\\n\")  # Write each number followed by a newline\n",
        "    print(f\"Successfully wrote numbers to '{output_file}'\")\n",
        "\n",
        "    # Verify content by reading from the file\n",
        "    print(f\"\\nContent of '{output_file}':\")\n",
        "    with open(output_file, \"r\") as file:\n",
        "        print(file.read())\n",
        "\n",
        "except IOError as e:\n",
        "    print(f\"An error occurred: {e}\")\n"
      ],
      "metadata": {
        "colab": {
          "base_uri": "https://localhost:8080/"
        },
        "id": "Ei6MsIu6lHWT",
        "outputId": "0bfdcaf2-5619-4d18-c3d9-3c78d71e0f9c"
      },
      "execution_count": null,
      "outputs": [
        {
          "output_type": "stream",
          "name": "stdout",
          "text": [
            "Successfully wrote numbers to 'number_list.txt'\n",
            "\n",
            "Content of 'number_list.txt':\n",
            "10\n",
            "20\n",
            "30\n",
            "40\n",
            "50\n",
            "60\n",
            "70\n",
            "80\n",
            "90\n",
            "100\n",
            "\n"
          ]
        }
      ]
    },
    {
      "cell_type": "markdown",
      "source": [
        "18. How would you implement a basic logging setup that logs to a file with rotation after 1MB.\n"
      ],
      "metadata": {
        "id": "lwPOLmc4nrPj"
      }
    },
    {
      "cell_type": "code",
      "source": [
        "import logging\n",
        "from logging.handlers import RotatingFileHandler\n",
        "\n",
        "# Create a logger\n",
        "logger = logging.getLogger(\"my_logger\")\n",
        "logger.setLevel(logging.INFO)  # Set the desired logging level\n",
        "\n",
        "# Create a rotating file handler\n",
        "handler = RotatingFileHandler(\n",
        "    \"app.log\",           # Log file name\n",
        "    maxBytes=1 * 1024 * 1024,  # 1MB\n",
        "    backupCount=5        # Number of backup files to keep\n",
        ")\n",
        "\n",
        "# Create a formatter and set it to the handler\n",
        "formatter = logging.Formatter('%(asctime)s - %(levelname)s - %(message)s')\n",
        "handler.setFormatter(formatter)\n",
        "\n",
        "# Add the handler to the logger\n",
        "logger.addHandler(handler)\n",
        "\n",
        "# Example log message\n",
        "logger.info(\"This is a test log message.\")\n"
      ],
      "metadata": {
        "colab": {
          "base_uri": "https://localhost:8080/"
        },
        "id": "hzaDOxc6sinf",
        "outputId": "c9bcc80e-a2cc-4265-b6f4-63ee9d432291"
      },
      "execution_count": null,
      "outputs": [
        {
          "output_type": "stream",
          "name": "stderr",
          "text": [
            "INFO: This is a test log message.\n"
          ]
        }
      ]
    },
    {
      "cell_type": "markdown",
      "source": [
        "19. Write a program that handles both IndexError and KeyError using a try-except block."
      ],
      "metadata": {
        "id": "85S3PlCRo9r8"
      }
    },
    {
      "cell_type": "code",
      "source": [
        "my_list = [10, 20, 30]\n",
        "my_dict = {'a': 1, 'b': 2}\n",
        "\n",
        "try:\n",
        "    # Access an index that might be out of range\n",
        "    print(my_list[5])\n",
        "\n",
        "    # Access a key that might not exist\n",
        "    print(my_dict['c'])\n",
        "\n",
        "except IndexError:\n",
        "    print(\"Caught an IndexError: list index out of range.\")\n",
        "\n",
        "except KeyError:\n",
        "    print(\"Caught a KeyError: key not found in dictionary.\")\n"
      ],
      "metadata": {
        "colab": {
          "base_uri": "https://localhost:8080/"
        },
        "id": "1ObgSyOim5cB",
        "outputId": "65dcd606-ea1f-4e51-eafc-2811476cc2b7"
      },
      "execution_count": null,
      "outputs": [
        {
          "output_type": "stream",
          "name": "stdout",
          "text": [
            "Caught an IndexError: list index out of range.\n"
          ]
        }
      ]
    },
    {
      "cell_type": "markdown",
      "source": [
        "20. How would you open a file and read its contents using a context manager in Python?"
      ],
      "metadata": {
        "id": "Fc82ON6wpF7J"
      }
    },
    {
      "cell_type": "code",
      "source": [
        "filename = \"example.txt\"\n",
        "\n",
        "with open(filename, 'r') as file:\n",
        "    contents = file.read()\n",
        "\n",
        "print(contents)\n"
      ],
      "metadata": {
        "colab": {
          "base_uri": "https://localhost:8080/"
        },
        "id": "XMa8N4tjpGxn",
        "outputId": "086e86bc-9cbe-47b7-9873-674149a83c0d"
      },
      "execution_count": null,
      "outputs": [
        {
          "output_type": "stream",
          "name": "stdout",
          "text": [
            "Hello World!Welcome to India\n",
            "This line will be added at the end of the file.\n",
            "\n"
          ]
        }
      ]
    },
    {
      "cell_type": "markdown",
      "source": [
        "21. Write a Python program that reads a file and prints the number of occurrences of a specific word."
      ],
      "metadata": {
        "id": "de0djKe6pLsM"
      }
    },
    {
      "cell_type": "code",
      "source": [
        "def count_word_in_file(file_path, word):\n",
        "    try:\n",
        "        with open(file_path, 'r') as file:\n",
        "            text = file.read()\n",
        "\n",
        "        # Count occurrences of the word, case-insensitive\n",
        "        word_count = text.lower().split().count(word.lower())\n",
        "\n",
        "        print(f\"The word '{word}' appears {word_count} time(s) in the file.\")\n",
        "\n",
        "    except FileNotFoundError:\n",
        "        print(f\"Error: The file at {file_path} was not found.\")\n",
        "    except Exception as e:\n",
        "        print(f\"An error occurred: {e}\")\n",
        "\n",
        "# Example usage\n",
        "file_path = 'example.txt'  # Specify the path to your file\n",
        "word_to_count = 'Hello'  # Specify the word we want to count\n",
        "\n",
        "count_word_in_file(file_path, word_to_count)\n"
      ],
      "metadata": {
        "colab": {
          "base_uri": "https://localhost:8080/"
        },
        "id": "v1nmUOZdpIdq",
        "outputId": "0a7db1e1-054a-4163-c5a7-7b43f81b1c71"
      },
      "execution_count": null,
      "outputs": [
        {
          "output_type": "stream",
          "name": "stdout",
          "text": [
            "The word 'Hello' appears 1 time(s) in the file.\n"
          ]
        }
      ]
    },
    {
      "cell_type": "markdown",
      "source": [
        "22. How can you check if a file is empty before attempting to read its contents?"
      ],
      "metadata": {
        "id": "m4IJ4q9jpTwn"
      }
    },
    {
      "cell_type": "code",
      "source": [
        "import os\n",
        "\n",
        "filename = \"example.txt\"\n",
        "\n",
        "if os.path.getsize(filename) == 0:\n",
        "    print(\"The file is empty.\")\n",
        "else:\n",
        "    with open(filename, 'r') as file:\n",
        "        content = file.read()\n",
        "        print(\"File content:\")\n",
        "        print(content)\n"
      ],
      "metadata": {
        "colab": {
          "base_uri": "https://localhost:8080/"
        },
        "id": "fs89jLTMpPt5",
        "outputId": "0da559dd-ceef-4fa5-de1d-6492b04b6835"
      },
      "execution_count": null,
      "outputs": [
        {
          "output_type": "stream",
          "name": "stdout",
          "text": [
            "File content:\n",
            "Hello World!Welcome to India\n",
            "This line will be added at the end of the file.\n",
            "\n"
          ]
        }
      ]
    },
    {
      "cell_type": "markdown",
      "source": [
        "23. Write a Python program that writes to a log file when an error occurs during file handling."
      ],
      "metadata": {
        "id": "jRfeq1Vapwcq"
      }
    },
    {
      "cell_type": "code",
      "source": [
        "import logging\n",
        "\n",
        "# Configure logging to write to a log file\n",
        "logging.basicConfig(\n",
        "    filename='error_log.txt',\n",
        "    level=logging.ERROR,\n",
        "    format='%(asctime)s - %(levelname)s - %(message)s'\n",
        ")\n",
        "\n",
        "def read_file(filename):\n",
        "    try:\n",
        "        with open(filename, 'r') as file:\n",
        "            content = file.read()\n",
        "            print(\"File content:\\n\", content)\n",
        "    except FileNotFoundError as e:\n",
        "        print(f\"Error: The file '{filename}' was not found.\")\n",
        "        logging.error(f\"FileNotFoundError: {e}\")\n",
        "    except IOError as e:\n",
        "        print(f\"Error reading file '{filename}'.\")\n",
        "        logging.error(f\"IOError: {e}\")\n",
        "    except Exception as e:\n",
        "        print(\"An unexpected error occurred.\")\n",
        "        logging.error(f\"Unexpected error: {e}\")\n",
        "\n",
        "# Example usage\n",
        "read_file(\"nonexistent_file.txt\")\n"
      ],
      "metadata": {
        "colab": {
          "base_uri": "https://localhost:8080/"
        },
        "id": "VQNwFvLjpXPp",
        "outputId": "712f4bd5-89c1-413e-c3bc-6e8487b46fe4"
      },
      "execution_count": null,
      "outputs": [
        {
          "output_type": "stream",
          "name": "stderr",
          "text": [
            "ERROR: FileNotFoundError: [Errno 2] No such file or directory: 'nonexistent_file.txt'\n"
          ]
        },
        {
          "output_type": "stream",
          "name": "stdout",
          "text": [
            "Error: The file 'nonexistent_file.txt' was not found.\n"
          ]
        }
      ]
    }
  ]
}